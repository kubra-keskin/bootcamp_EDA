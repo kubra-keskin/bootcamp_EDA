{
 "cells": [
  {
   "cell_type": "markdown",
   "id": "wound-appeal",
   "metadata": {},
   "source": [
    "### 1.Sınav sonuçları normal dağılımlı mıdır? Değilse normal dağılıma sahip hale getirmek için ne yapabiliriz?"
   ]
  },
  {
   "cell_type": "code",
   "execution_count": 1,
   "id": "conservative-burner",
   "metadata": {},
   "outputs": [],
   "source": [
    "import matplotlib.pyplot as plt\n",
    "import seaborn as sns\n",
    "import numpy as np\n",
    "import pandas as pd\n",
    "import seaborn as sns\n",
    "import scipy.stats as stats\n",
    "from scipy.stats.mstats import winsorize\n",
    "from sqlalchemy import create_engine\n",
    "import warnings\n",
    "import statsmodels.api as sm\n",
    "import pylab as py\n",
    "from sklearn import preprocessing\n",
    "from sklearn.preprocessing import normalize\n",
    "\n",
    "warnings.filterwarnings('ignore')\n",
    "sns.set(style=\"whitegrid\")"
   ]
  },
  {
   "cell_type": "code",
   "execution_count": 2,
   "id": "tutorial-first",
   "metadata": {
    "scrolled": true
   },
   "outputs": [
    {
     "data": {
      "text/html": [
       "<div>\n",
       "<style scoped>\n",
       "    .dataframe tbody tr th:only-of-type {\n",
       "        vertical-align: middle;\n",
       "    }\n",
       "\n",
       "    .dataframe tbody tr th {\n",
       "        vertical-align: top;\n",
       "    }\n",
       "\n",
       "    .dataframe thead th {\n",
       "        text-align: right;\n",
       "    }\n",
       "</style>\n",
       "<table border=\"1\" class=\"dataframe\">\n",
       "  <thead>\n",
       "    <tr style=\"text-align: right;\">\n",
       "      <th></th>\n",
       "      <th>gender</th>\n",
       "      <th>race/ethnicity</th>\n",
       "      <th>parental level of education</th>\n",
       "      <th>lunch</th>\n",
       "      <th>test preparation course</th>\n",
       "      <th>math score</th>\n",
       "      <th>reading score</th>\n",
       "      <th>writing score</th>\n",
       "    </tr>\n",
       "  </thead>\n",
       "  <tbody>\n",
       "    <tr>\n",
       "      <th>0</th>\n",
       "      <td>female</td>\n",
       "      <td>group B</td>\n",
       "      <td>bachelor's degree</td>\n",
       "      <td>standard</td>\n",
       "      <td>none</td>\n",
       "      <td>72</td>\n",
       "      <td>72</td>\n",
       "      <td>74</td>\n",
       "    </tr>\n",
       "    <tr>\n",
       "      <th>1</th>\n",
       "      <td>female</td>\n",
       "      <td>group C</td>\n",
       "      <td>some college</td>\n",
       "      <td>standard</td>\n",
       "      <td>completed</td>\n",
       "      <td>69</td>\n",
       "      <td>90</td>\n",
       "      <td>88</td>\n",
       "    </tr>\n",
       "    <tr>\n",
       "      <th>2</th>\n",
       "      <td>female</td>\n",
       "      <td>group B</td>\n",
       "      <td>master's degree</td>\n",
       "      <td>standard</td>\n",
       "      <td>none</td>\n",
       "      <td>90</td>\n",
       "      <td>95</td>\n",
       "      <td>93</td>\n",
       "    </tr>\n",
       "    <tr>\n",
       "      <th>3</th>\n",
       "      <td>male</td>\n",
       "      <td>group A</td>\n",
       "      <td>associate's degree</td>\n",
       "      <td>free/reduced</td>\n",
       "      <td>none</td>\n",
       "      <td>47</td>\n",
       "      <td>57</td>\n",
       "      <td>44</td>\n",
       "    </tr>\n",
       "    <tr>\n",
       "      <th>4</th>\n",
       "      <td>male</td>\n",
       "      <td>group C</td>\n",
       "      <td>some college</td>\n",
       "      <td>standard</td>\n",
       "      <td>none</td>\n",
       "      <td>76</td>\n",
       "      <td>78</td>\n",
       "      <td>75</td>\n",
       "    </tr>\n",
       "  </tbody>\n",
       "</table>\n",
       "</div>"
      ],
      "text/plain": [
       "   gender race/ethnicity parental level of education         lunch  \\\n",
       "0  female        group B           bachelor's degree      standard   \n",
       "1  female        group C                some college      standard   \n",
       "2  female        group B             master's degree      standard   \n",
       "3    male        group A          associate's degree  free/reduced   \n",
       "4    male        group C                some college      standard   \n",
       "\n",
       "  test preparation course  math score  reading score  writing score  \n",
       "0                    none          72             72             74  \n",
       "1               completed          69             90             88  \n",
       "2                    none          90             95             93  \n",
       "3                    none          47             57             44  \n",
       "4                    none          76             78             75  "
      ]
     },
     "execution_count": 2,
     "metadata": {},
     "output_type": "execute_result"
    }
   ],
   "source": [
    "students = pd.read_csv(\"StudentsPerformance.csv\")\n",
    "students.head()"
   ]
  },
  {
   "cell_type": "code",
   "execution_count": null,
   "id": "trying-yukon",
   "metadata": {},
   "outputs": [],
   "source": []
  },
  {
   "cell_type": "code",
   "execution_count": 3,
   "id": "allied-gates",
   "metadata": {},
   "outputs": [
    {
     "data": {
      "image/png": "[encoded data removed]",
      "text/plain": [
       "<Figure size 576x360 with 6 Axes>"
      ]
     },
     "metadata": {},
     "output_type": "display_data"
    }
   ],
   "source": [
    "degisken = [\"math score\",\"reading score\",\"writing score\"]         #ilgili histogramlara baktığımızda normald dağılıma sahip veya\n",
    "                                                                    #yakın gibi gözüküyor.İstatiksel testlerle bakalım.\n",
    "plt.figure(figsize=(8,5))\n",
    "for i in range(3):\n",
    "    plt.subplot(2,3,i+1)\n",
    "    plt.hist(students[degisken[i]])\n",
    "    plt.title(degisken[i])\n",
    "    \n",
    "for i in range(3):    \n",
    "    plt.subplot(2,3,i+4)\n",
    "    plt.hist(winsorize(students[degisken[i]]))\n",
    "    plt.title(degisken[i])\n",
    "\n",
    "    plt.tight_layout()\n",
    "plt.show()"
   ]
  },
  {
   "cell_type": "code",
   "execution_count": 4,
   "id": "chicken-closing",
   "metadata": {},
   "outputs": [
    {
     "name": "stdout",
     "output_type": "stream",
     "text": [
      "math score için:ShapiroResult(statistic=0.9931505918502808, pvalue=0.00014530023327097297) \n",
      "\n",
      "reading score için:ShapiroResult(statistic=0.9929210543632507, pvalue=0.0001056220498867333) \n",
      "\n",
      "writing score için:ShapiroResult(statistic=0.9919633269309998, pvalue=2.9172901122365147e-05)\n"
     ]
    }
   ],
   "source": [
    "from scipy.stats import shapiro               # shapiro ile scorların normal dağılıma sahip oldup olmadığını test edersek: \n",
    "ms = shapiro(students[\"math score\"])           # 3 scor da p > 0.05 kosulunu saglamadığı için normal dağılımlı degildir. \n",
    "print(\"math score için:{}\".format(ms),\"\\n\")\n",
    "\n",
    "rs = shapiro(students[\"reading score\"])\n",
    "print(\"reading score için:{}\".format(rs),\"\\n\")\n",
    "\n",
    "ws = shapiro(students[\"writing score\"])\n",
    "print(\"writing score için:{}\".format(ws))"
   ]
  },
  {
   "cell_type": "code",
   "execution_count": 5,
   "id": "possible-spouse",
   "metadata": {
    "scrolled": true
   },
   "outputs": [
    {
     "data": {
      "text/html": [
       "<div>\n",
       "<style scoped>\n",
       "    .dataframe tbody tr th:only-of-type {\n",
       "        vertical-align: middle;\n",
       "    }\n",
       "\n",
       "    .dataframe tbody tr th {\n",
       "        vertical-align: top;\n",
       "    }\n",
       "\n",
       "    .dataframe thead th {\n",
       "        text-align: right;\n",
       "    }\n",
       "</style>\n",
       "<table border=\"1\" class=\"dataframe\">\n",
       "  <thead>\n",
       "    <tr style=\"text-align: right;\">\n",
       "      <th></th>\n",
       "      <th>score</th>\n",
       "      <th>jarque_bera_stats</th>\n",
       "      <th>jarque_bera_p_value</th>\n",
       "      <th>normal_stats</th>\n",
       "      <th>normal_p_value</th>\n",
       "    </tr>\n",
       "  </thead>\n",
       "  <tbody>\n",
       "    <tr>\n",
       "      <th>0</th>\n",
       "      <td>math score</td>\n",
       "      <td>15.91226</td>\n",
       "      <td>0.00035</td>\n",
       "      <td>15.40896</td>\n",
       "      <td>0.00045</td>\n",
       "    </tr>\n",
       "    <tr>\n",
       "      <th>1</th>\n",
       "      <td>reading score</td>\n",
       "      <td>11.38330</td>\n",
       "      <td>0.00337</td>\n",
       "      <td>11.11741</td>\n",
       "      <td>0.00385</td>\n",
       "    </tr>\n",
       "    <tr>\n",
       "      <th>2</th>\n",
       "      <td>writing score</td>\n",
       "      <td>13.98509</td>\n",
       "      <td>0.00092</td>\n",
       "      <td>13.60645</td>\n",
       "      <td>0.00111</td>\n",
       "    </tr>\n",
       "  </tbody>\n",
       "</table>\n",
       "</div>"
      ],
      "text/plain": [
       "           score  jarque_bera_stats  jarque_bera_p_value  normal_stats  \\\n",
       "0     math score           15.91226              0.00035      15.40896   \n",
       "1  reading score           11.38330              0.00337      11.11741   \n",
       "2  writing score           13.98509              0.00092      13.60645   \n",
       "\n",
       "   normal_p_value  \n",
       "0         0.00045  \n",
       "1         0.00385  \n",
       "2         0.00111  "
      ]
     },
     "execution_count": 5,
     "metadata": {},
     "output_type": "execute_result"
    }
   ],
   "source": [
    "from scipy.stats import jarque_bera                                   # jarque_bera ve normaltest testleri de uygulandığında\n",
    "from scipy.stats import normaltest                                    # aynı sekilde normal dağılıma sahip olmadığı görülür.\n",
    "\n",
    "pd.options.display.float_format = '{:.5f}'.format\n",
    "\n",
    "scores = [\"math score\", \"reading score\", \"writing score\"]\n",
    "dagilim_testleri = pd.DataFrame(columns=['score', 'jarque_bera_stats', 'jarque_bera_p_value', \n",
    "                                         'normal_stats', 'normal_p_value'])\n",
    "\n",
    "for score in scores:\n",
    "    jb_stats = jarque_bera(students[score])\n",
    "    norm_stats = normaltest(students[score])\n",
    "    dagilim_testleri = dagilim_testleri.append({\"score\": score,\n",
    "                                                \"jarque_bera_stats\" : jb_stats[0] ,\n",
    "                                                \"jarque_bera_p_value\" : jb_stats[1] ,\n",
    "                                                \"normal_stats\": norm_stats[0] , \n",
    "                                                \"normal_p_value\" : norm_stats[1]\n",
    "                                               }, ignore_index=True)\n",
    "dagilim_testleri"
   ]
  },
  {
   "cell_type": "code",
   "execution_count": null,
   "id": "adequate-connectivity",
   "metadata": {},
   "outputs": [],
   "source": []
  },
  {
   "cell_type": "code",
   "execution_count": 6,
   "id": "sharp-patent",
   "metadata": {},
   "outputs": [],
   "source": [
    "# 3 scor da normal dağılımlı olmadığı için normalizasyon uygulayalım:"
   ]
  },
  {
   "cell_type": "code",
   "execution_count": 7,
   "id": "several-heading",
   "metadata": {
    "scrolled": true
   },
   "outputs": [
    {
     "name": "stdout",
     "output_type": "stream",
     "text": [
      "Minimum Değer\n",
      "-----------------\n",
      "math score            0.00000\n",
      "norm_math score       0.00000\n",
      "reading score        17.00000\n",
      "norm_reading score    0.00760\n",
      "writing score        10.00000\n",
      "norm_writing score    0.00454\n",
      "dtype: float64\n",
      "\n",
      "Maksimum Değer\n",
      "-----------------\n",
      "math score           100.00000\n",
      "norm_math score        0.04664\n",
      "reading score        100.00000\n",
      "norm_reading score     0.04473\n",
      "writing score        100.00000\n",
      "norm_writing score     0.04535\n",
      "dtype: float64\n"
     ]
    }
   ],
   "source": [
    "students[\"norm_math score\"] = normalize(np.array(students[\"math score\"]).reshape(1,-1)).reshape(-1,1)\n",
    "students[\"norm_reading score\"] = normalize(np.array(students[\"reading score\"]).reshape(1,-1)).reshape(-1,1)\n",
    "students[\"norm_writing score\"] = normalize(np.array(students[\"writing score\"]).reshape(1,-1)).reshape(-1,1)\n",
    "norm_features = [\"math score\",\"norm_math score\",\"reading score\",\n",
    "                 \"norm_reading score\",\"writing score\",\"norm_writing score\"]\n",
    "\n",
    "print('Minimum Değer\\n-----------------',)\n",
    "print(students[norm_features].min())\n",
    "print('\\nMaksimum Değer\\n-----------------',)\n",
    "print(students[norm_features].max())"
   ]
  },
  {
   "cell_type": "code",
   "execution_count": 8,
   "id": "cardiac-registration",
   "metadata": {},
   "outputs": [
    {
     "data": {
      "image/png": "[encoded data removed]",
      "text/plain": [
       "<Figure size 1296x360 with 3 Axes>"
      ]
     },
     "metadata": {},
     "output_type": "display_data"
    }
   ],
   "source": [
    "baslik_font = {'family': 'arial', 'color': 'darkred','weight': 'bold','size': 13 }\n",
    "eksen_font  = {'family': 'arial', 'color': 'darkblue','weight': 'bold','size': 10 }\n",
    "plt.figure(figsize=(18,5))\n",
    "\n",
    "for i in range(3):\n",
    "    plt.subplot(1,3,i+1)\n",
    "    plt.scatter(students[norm_features[2*i]], students[norm_features[2*i+1]])\n",
    "    plt.title(\"Orjinal ve Normalize değerler \\n ({})\".format(norm_features[2*i]), fontdict=baslik_font)\n",
    "    plt.xlabel(\"Değer\", fontdict=eksen_font)\n",
    "    plt.ylabel(\"Normalleştirilmiş değer\", fontdict=eksen_font)\n",
    "\n",
    "plt.show()"
   ]
  },
  {
   "cell_type": "markdown",
   "id": "outside-fitting",
   "metadata": {},
   "source": [
    "### 2.Üç sınav sonucunu tek bir değişkende, hedef değişkeni olarak tutmak istiyoruz. Bunun için üç sınavın ortalamasını içeren yeni bir değişken tanımlayın. Bu yeni değişkenin ortalamasının normal dağılımlı olup olmadığını test edin. Eğer normal dağılıma sahip değilse dönüşüm yaparak normal dağılımlı hale getirmeye çalışın ve dönüşümün sonucunu test edin."
   ]
  },
  {
   "cell_type": "code",
   "execution_count": 9,
   "id": "olympic-behalf",
   "metadata": {},
   "outputs": [],
   "source": [
    "students[\"final_score\"] = (students[\"math score\"]+students[\"reading score\"]+students[\"writing score\"])/3"
   ]
  },
  {
   "cell_type": "code",
   "execution_count": 10,
   "id": "objective-standing",
   "metadata": {
    "scrolled": true
   },
   "outputs": [
    {
     "data": {
      "text/html": [
       "<div>\n",
       "<style scoped>\n",
       "    .dataframe tbody tr th:only-of-type {\n",
       "        vertical-align: middle;\n",
       "    }\n",
       "\n",
       "    .dataframe tbody tr th {\n",
       "        vertical-align: top;\n",
       "    }\n",
       "\n",
       "    .dataframe thead th {\n",
       "        text-align: right;\n",
       "    }\n",
       "</style>\n",
       "<table border=\"1\" class=\"dataframe\">\n",
       "  <thead>\n",
       "    <tr style=\"text-align: right;\">\n",
       "      <th></th>\n",
       "      <th>gender</th>\n",
       "      <th>race/ethnicity</th>\n",
       "      <th>parental level of education</th>\n",
       "      <th>lunch</th>\n",
       "      <th>test preparation course</th>\n",
       "      <th>math score</th>\n",
       "      <th>reading score</th>\n",
       "      <th>writing score</th>\n",
       "      <th>norm_math score</th>\n",
       "      <th>norm_reading score</th>\n",
       "      <th>norm_writing score</th>\n",
       "      <th>final_score</th>\n",
       "    </tr>\n",
       "  </thead>\n",
       "  <tbody>\n",
       "    <tr>\n",
       "      <th>0</th>\n",
       "      <td>female</td>\n",
       "      <td>group B</td>\n",
       "      <td>bachelor's degree</td>\n",
       "      <td>standard</td>\n",
       "      <td>none</td>\n",
       "      <td>72</td>\n",
       "      <td>72</td>\n",
       "      <td>74</td>\n",
       "      <td>0.03358</td>\n",
       "      <td>0.03221</td>\n",
       "      <td>0.03356</td>\n",
       "      <td>72.66667</td>\n",
       "    </tr>\n",
       "    <tr>\n",
       "      <th>1</th>\n",
       "      <td>female</td>\n",
       "      <td>group C</td>\n",
       "      <td>some college</td>\n",
       "      <td>standard</td>\n",
       "      <td>completed</td>\n",
       "      <td>69</td>\n",
       "      <td>90</td>\n",
       "      <td>88</td>\n",
       "      <td>0.03218</td>\n",
       "      <td>0.04026</td>\n",
       "      <td>0.03991</td>\n",
       "      <td>82.33333</td>\n",
       "    </tr>\n",
       "    <tr>\n",
       "      <th>2</th>\n",
       "      <td>female</td>\n",
       "      <td>group B</td>\n",
       "      <td>master's degree</td>\n",
       "      <td>standard</td>\n",
       "      <td>none</td>\n",
       "      <td>90</td>\n",
       "      <td>95</td>\n",
       "      <td>93</td>\n",
       "      <td>0.04197</td>\n",
       "      <td>0.04250</td>\n",
       "      <td>0.04218</td>\n",
       "      <td>92.66667</td>\n",
       "    </tr>\n",
       "    <tr>\n",
       "      <th>3</th>\n",
       "      <td>male</td>\n",
       "      <td>group A</td>\n",
       "      <td>associate's degree</td>\n",
       "      <td>free/reduced</td>\n",
       "      <td>none</td>\n",
       "      <td>47</td>\n",
       "      <td>57</td>\n",
       "      <td>44</td>\n",
       "      <td>0.02192</td>\n",
       "      <td>0.02550</td>\n",
       "      <td>0.01995</td>\n",
       "      <td>49.33333</td>\n",
       "    </tr>\n",
       "    <tr>\n",
       "      <th>4</th>\n",
       "      <td>male</td>\n",
       "      <td>group C</td>\n",
       "      <td>some college</td>\n",
       "      <td>standard</td>\n",
       "      <td>none</td>\n",
       "      <td>76</td>\n",
       "      <td>78</td>\n",
       "      <td>75</td>\n",
       "      <td>0.03545</td>\n",
       "      <td>0.03489</td>\n",
       "      <td>0.03401</td>\n",
       "      <td>76.33333</td>\n",
       "    </tr>\n",
       "  </tbody>\n",
       "</table>\n",
       "</div>"
      ],
      "text/plain": [
       "   gender race/ethnicity parental level of education         lunch  \\\n",
       "0  female        group B           bachelor's degree      standard   \n",
       "1  female        group C                some college      standard   \n",
       "2  female        group B             master's degree      standard   \n",
       "3    male        group A          associate's degree  free/reduced   \n",
       "4    male        group C                some college      standard   \n",
       "\n",
       "  test preparation course  math score  reading score  writing score  \\\n",
       "0                    none          72             72             74   \n",
       "1               completed          69             90             88   \n",
       "2                    none          90             95             93   \n",
       "3                    none          47             57             44   \n",
       "4                    none          76             78             75   \n",
       "\n",
       "   norm_math score  norm_reading score  norm_writing score  final_score  \n",
       "0          0.03358             0.03221             0.03356     72.66667  \n",
       "1          0.03218             0.04026             0.03991     82.33333  \n",
       "2          0.04197             0.04250             0.04218     92.66667  \n",
       "3          0.02192             0.02550             0.01995     49.33333  \n",
       "4          0.03545             0.03489             0.03401     76.33333  "
      ]
     },
     "execution_count": 10,
     "metadata": {},
     "output_type": "execute_result"
    }
   ],
   "source": [
    "students.head()"
   ]
  },
  {
   "cell_type": "code",
   "execution_count": 11,
   "id": "patent-insulation",
   "metadata": {},
   "outputs": [
    {
     "data": {
      "image/png": "[encoded data removed]",
      "text/plain": [
       "<Figure size 432x288 with 1 Axes>"
      ]
     },
     "metadata": {},
     "output_type": "display_data"
    }
   ],
   "source": [
    "sm.qqplot(students[\"final_score\"],line=\"s\")    #grafikte normale yakın bi dağılım görülüyor.\n",
    "py.show()"
   ]
  },
  {
   "cell_type": "code",
   "execution_count": 12,
   "id": "moving-commerce",
   "metadata": {},
   "outputs": [
    {
     "data": {
      "image/png": "[encoded data removed]",
      "text/plain": [
       "<Figure size 432x288 with 1 Axes>"
      ]
     },
     "metadata": {},
     "output_type": "display_data"
    }
   ],
   "source": [
    "plt.hist(students[\"final_score\"])\n",
    "plt.show()"
   ]
  },
  {
   "cell_type": "code",
   "execution_count": 13,
   "id": "rental-burns",
   "metadata": {},
   "outputs": [
    {
     "data": {
      "text/plain": [
       "ShapiroResult(statistic=0.9931488633155823, pvalue=0.0001449410046916455)"
      ]
     },
     "execution_count": 13,
     "metadata": {},
     "output_type": "execute_result"
    }
   ],
   "source": [
    "shapiro(students[\"final_score\"])  #görüldüğü üzere yeni olusturulan final_score değişkeni normal dağılımlı degil."
   ]
  },
  {
   "cell_type": "code",
   "execution_count": 14,
   "id": "former-invitation",
   "metadata": {},
   "outputs": [
    {
     "data": {
      "text/plain": [
       "NormaltestResult(statistic=15.186721327231322, pvalue=0.0005037851534494478)"
      ]
     },
     "execution_count": 14,
     "metadata": {},
     "output_type": "execute_result"
    }
   ],
   "source": [
    "normaltest(students[\"final_score\"])"
   ]
  },
  {
   "cell_type": "code",
   "execution_count": 15,
   "id": "behavioral-illinois",
   "metadata": {},
   "outputs": [
    {
     "data": {
      "text/plain": [
       "Jarque_beraResult(statistic=15.453387913085164, pvalue=0.00044089934264401887)"
      ]
     },
     "execution_count": 15,
     "metadata": {},
     "output_type": "execute_result"
    }
   ],
   "source": [
    "jarque_bera(students[\"final_score\"])"
   ]
  },
  {
   "cell_type": "code",
   "execution_count": 16,
   "id": "narrative-program",
   "metadata": {},
   "outputs": [],
   "source": [
    "#normalizasyon ile normal dağılıma getirmeye calısalım:\n",
    "\n",
    "students[\"norm_final_score\"] = normalize(np.array(students[\"final_score\"]).reshape(1,-1)).reshape(-1,1)"
   ]
  },
  {
   "cell_type": "code",
   "execution_count": 17,
   "id": "established-intervention",
   "metadata": {},
   "outputs": [
    {
     "name": "stdout",
     "output_type": "stream",
     "text": [
      "final_score min deger: 9.0 \n",
      "\n",
      "norm_final_score min deger: 0.004109661304911046 \n",
      "\n",
      "final_score max deger: 100.0 \n",
      "\n",
      "norm_final_score max deger: 0.04566290338790051 \n",
      "\n"
     ]
    }
   ],
   "source": [
    "print(\"final_score min deger: {}\".format(students[\"final_score\"].min()),\"\\n\")\n",
    "print(\"norm_final_score min deger: {}\".format(students[\"norm_final_score\"].min()),\"\\n\")\n",
    "print(\"final_score max deger: {}\".format(students[\"final_score\"].max()),\"\\n\")\n",
    "print(\"norm_final_score max deger: {}\".format(students[\"norm_final_score\"].max()),\"\\n\")"
   ]
  },
  {
   "cell_type": "code",
   "execution_count": 18,
   "id": "suburban-morning",
   "metadata": {},
   "outputs": [
    {
     "data": {
      "image/png": "[encoded data removed]",
      "text/plain": [
       "<Figure size 432x288 with 1 Axes>"
      ]
     },
     "metadata": {},
     "output_type": "display_data"
    }
   ],
   "source": [
    "sm.qqplot(students[\"norm_final_score\"],line=\"s\")\n",
    "py.show()"
   ]
  },
  {
   "cell_type": "code",
   "execution_count": 19,
   "id": "dominican-tyler",
   "metadata": {},
   "outputs": [
    {
     "data": {
      "image/png": "[encoded data removed]",
      "text/plain": [
       "<Figure size 432x288 with 1 Axes>"
      ]
     },
     "metadata": {},
     "output_type": "display_data"
    }
   ],
   "source": [
    "plt.scatter(students[\"final_score\"],students[\"norm_final_score\"])\n",
    "plt.title(\"final_score & norm_final_score\",fontdict=baslik_font)\n",
    "plt.xlabel(\"final_score\",fontdict=eksen_font)\n",
    "plt.ylabel(\"norm_final_score\",fontdict=eksen_font)\n",
    "plt.show()"
   ]
  },
  {
   "cell_type": "markdown",
   "id": "contained-lawsuit",
   "metadata": {},
   "source": [
    "### 3.Bir önceki soruda oluşturduğumuz hedef değişkeni ile hangi değişkenler ilişkili görünüyor? Eğer amacımız sınav başarısını belirleyen etkenleri açıklamak olsaydı hangi değişkenleri veri kümemizde tutmamız gerekirdi?"
   ]
  },
  {
   "cell_type": "code",
   "execution_count": 20,
   "id": "exposed-latter",
   "metadata": {
    "scrolled": false
   },
   "outputs": [
    {
     "data": {
      "text/html": [
       "<div>\n",
       "<style scoped>\n",
       "    .dataframe tbody tr th:only-of-type {\n",
       "        vertical-align: middle;\n",
       "    }\n",
       "\n",
       "    .dataframe tbody tr th {\n",
       "        vertical-align: top;\n",
       "    }\n",
       "\n",
       "    .dataframe thead th {\n",
       "        text-align: right;\n",
       "    }\n",
       "</style>\n",
       "<table border=\"1\" class=\"dataframe\">\n",
       "  <thead>\n",
       "    <tr style=\"text-align: right;\">\n",
       "      <th></th>\n",
       "      <th>gender</th>\n",
       "      <th>race/ethnicity</th>\n",
       "      <th>parental level of education</th>\n",
       "      <th>lunch</th>\n",
       "      <th>test preparation course</th>\n",
       "      <th>math score</th>\n",
       "      <th>reading score</th>\n",
       "      <th>writing score</th>\n",
       "      <th>norm_math score</th>\n",
       "      <th>norm_reading score</th>\n",
       "      <th>norm_writing score</th>\n",
       "      <th>final_score</th>\n",
       "      <th>norm_final_score</th>\n",
       "    </tr>\n",
       "  </thead>\n",
       "  <tbody>\n",
       "    <tr>\n",
       "      <th>0</th>\n",
       "      <td>female</td>\n",
       "      <td>group B</td>\n",
       "      <td>bachelor's degree</td>\n",
       "      <td>standard</td>\n",
       "      <td>none</td>\n",
       "      <td>72</td>\n",
       "      <td>72</td>\n",
       "      <td>74</td>\n",
       "      <td>0.03358</td>\n",
       "      <td>0.03221</td>\n",
       "      <td>0.03356</td>\n",
       "      <td>72.66667</td>\n",
       "      <td>0.03318</td>\n",
       "    </tr>\n",
       "    <tr>\n",
       "      <th>1</th>\n",
       "      <td>female</td>\n",
       "      <td>group C</td>\n",
       "      <td>some college</td>\n",
       "      <td>standard</td>\n",
       "      <td>completed</td>\n",
       "      <td>69</td>\n",
       "      <td>90</td>\n",
       "      <td>88</td>\n",
       "      <td>0.03218</td>\n",
       "      <td>0.04026</td>\n",
       "      <td>0.03991</td>\n",
       "      <td>82.33333</td>\n",
       "      <td>0.03760</td>\n",
       "    </tr>\n",
       "    <tr>\n",
       "      <th>2</th>\n",
       "      <td>female</td>\n",
       "      <td>group B</td>\n",
       "      <td>master's degree</td>\n",
       "      <td>standard</td>\n",
       "      <td>none</td>\n",
       "      <td>90</td>\n",
       "      <td>95</td>\n",
       "      <td>93</td>\n",
       "      <td>0.04197</td>\n",
       "      <td>0.04250</td>\n",
       "      <td>0.04218</td>\n",
       "      <td>92.66667</td>\n",
       "      <td>0.04231</td>\n",
       "    </tr>\n",
       "    <tr>\n",
       "      <th>3</th>\n",
       "      <td>male</td>\n",
       "      <td>group A</td>\n",
       "      <td>associate's degree</td>\n",
       "      <td>free/reduced</td>\n",
       "      <td>none</td>\n",
       "      <td>47</td>\n",
       "      <td>57</td>\n",
       "      <td>44</td>\n",
       "      <td>0.02192</td>\n",
       "      <td>0.02550</td>\n",
       "      <td>0.01995</td>\n",
       "      <td>49.33333</td>\n",
       "      <td>0.02253</td>\n",
       "    </tr>\n",
       "    <tr>\n",
       "      <th>4</th>\n",
       "      <td>male</td>\n",
       "      <td>group C</td>\n",
       "      <td>some college</td>\n",
       "      <td>standard</td>\n",
       "      <td>none</td>\n",
       "      <td>76</td>\n",
       "      <td>78</td>\n",
       "      <td>75</td>\n",
       "      <td>0.03545</td>\n",
       "      <td>0.03489</td>\n",
       "      <td>0.03401</td>\n",
       "      <td>76.33333</td>\n",
       "      <td>0.03486</td>\n",
       "    </tr>\n",
       "  </tbody>\n",
       "</table>\n",
       "</div>"
      ],
      "text/plain": [
       "   gender race/ethnicity parental level of education         lunch  \\\n",
       "0  female        group B           bachelor's degree      standard   \n",
       "1  female        group C                some college      standard   \n",
       "2  female        group B             master's degree      standard   \n",
       "3    male        group A          associate's degree  free/reduced   \n",
       "4    male        group C                some college      standard   \n",
       "\n",
       "  test preparation course  math score  reading score  writing score  \\\n",
       "0                    none          72             72             74   \n",
       "1               completed          69             90             88   \n",
       "2                    none          90             95             93   \n",
       "3                    none          47             57             44   \n",
       "4                    none          76             78             75   \n",
       "\n",
       "   norm_math score  norm_reading score  norm_writing score  final_score  \\\n",
       "0          0.03358             0.03221             0.03356     72.66667   \n",
       "1          0.03218             0.04026             0.03991     82.33333   \n",
       "2          0.04197             0.04250             0.04218     92.66667   \n",
       "3          0.02192             0.02550             0.01995     49.33333   \n",
       "4          0.03545             0.03489             0.03401     76.33333   \n",
       "\n",
       "   norm_final_score  \n",
       "0           0.03318  \n",
       "1           0.03760  \n",
       "2           0.04231  \n",
       "3           0.02253  \n",
       "4           0.03486  "
      ]
     },
     "execution_count": 20,
     "metadata": {},
     "output_type": "execute_result"
    }
   ],
   "source": [
    "students.head()"
   ]
  },
  {
   "cell_type": "code",
   "execution_count": 21,
   "id": "bearing-fitness",
   "metadata": {},
   "outputs": [
    {
     "data": {
      "text/html": [
       "<div>\n",
       "<style scoped>\n",
       "    .dataframe tbody tr th:only-of-type {\n",
       "        vertical-align: middle;\n",
       "    }\n",
       "\n",
       "    .dataframe tbody tr th {\n",
       "        vertical-align: top;\n",
       "    }\n",
       "\n",
       "    .dataframe thead th {\n",
       "        text-align: right;\n",
       "    }\n",
       "</style>\n",
       "<table border=\"1\" class=\"dataframe\">\n",
       "  <thead>\n",
       "    <tr style=\"text-align: right;\">\n",
       "      <th></th>\n",
       "      <th>math score</th>\n",
       "      <th>reading score</th>\n",
       "      <th>writing score</th>\n",
       "      <th>norm_math score</th>\n",
       "      <th>norm_reading score</th>\n",
       "      <th>norm_writing score</th>\n",
       "      <th>final_score</th>\n",
       "      <th>norm_final_score</th>\n",
       "    </tr>\n",
       "  </thead>\n",
       "  <tbody>\n",
       "    <tr>\n",
       "      <th>math score</th>\n",
       "      <td>1.00000</td>\n",
       "      <td>0.81758</td>\n",
       "      <td>0.80264</td>\n",
       "      <td>1.00000</td>\n",
       "      <td>0.81758</td>\n",
       "      <td>0.80264</td>\n",
       "      <td>0.91875</td>\n",
       "      <td>0.91875</td>\n",
       "    </tr>\n",
       "    <tr>\n",
       "      <th>reading score</th>\n",
       "      <td>0.81758</td>\n",
       "      <td>1.00000</td>\n",
       "      <td>0.95460</td>\n",
       "      <td>0.81758</td>\n",
       "      <td>1.00000</td>\n",
       "      <td>0.95460</td>\n",
       "      <td>0.97033</td>\n",
       "      <td>0.97033</td>\n",
       "    </tr>\n",
       "    <tr>\n",
       "      <th>writing score</th>\n",
       "      <td>0.80264</td>\n",
       "      <td>0.95460</td>\n",
       "      <td>1.00000</td>\n",
       "      <td>0.80264</td>\n",
       "      <td>0.95460</td>\n",
       "      <td>1.00000</td>\n",
       "      <td>0.96567</td>\n",
       "      <td>0.96567</td>\n",
       "    </tr>\n",
       "    <tr>\n",
       "      <th>norm_math score</th>\n",
       "      <td>1.00000</td>\n",
       "      <td>0.81758</td>\n",
       "      <td>0.80264</td>\n",
       "      <td>1.00000</td>\n",
       "      <td>0.81758</td>\n",
       "      <td>0.80264</td>\n",
       "      <td>0.91875</td>\n",
       "      <td>0.91875</td>\n",
       "    </tr>\n",
       "    <tr>\n",
       "      <th>norm_reading score</th>\n",
       "      <td>0.81758</td>\n",
       "      <td>1.00000</td>\n",
       "      <td>0.95460</td>\n",
       "      <td>0.81758</td>\n",
       "      <td>1.00000</td>\n",
       "      <td>0.95460</td>\n",
       "      <td>0.97033</td>\n",
       "      <td>0.97033</td>\n",
       "    </tr>\n",
       "    <tr>\n",
       "      <th>norm_writing score</th>\n",
       "      <td>0.80264</td>\n",
       "      <td>0.95460</td>\n",
       "      <td>1.00000</td>\n",
       "      <td>0.80264</td>\n",
       "      <td>0.95460</td>\n",
       "      <td>1.00000</td>\n",
       "      <td>0.96567</td>\n",
       "      <td>0.96567</td>\n",
       "    </tr>\n",
       "    <tr>\n",
       "      <th>final_score</th>\n",
       "      <td>0.91875</td>\n",
       "      <td>0.97033</td>\n",
       "      <td>0.96567</td>\n",
       "      <td>0.91875</td>\n",
       "      <td>0.97033</td>\n",
       "      <td>0.96567</td>\n",
       "      <td>1.00000</td>\n",
       "      <td>1.00000</td>\n",
       "    </tr>\n",
       "    <tr>\n",
       "      <th>norm_final_score</th>\n",
       "      <td>0.91875</td>\n",
       "      <td>0.97033</td>\n",
       "      <td>0.96567</td>\n",
       "      <td>0.91875</td>\n",
       "      <td>0.97033</td>\n",
       "      <td>0.96567</td>\n",
       "      <td>1.00000</td>\n",
       "      <td>1.00000</td>\n",
       "    </tr>\n",
       "  </tbody>\n",
       "</table>\n",
       "</div>"
      ],
      "text/plain": [
       "                    math score  reading score  writing score  norm_math score  \\\n",
       "math score             1.00000        0.81758        0.80264          1.00000   \n",
       "reading score          0.81758        1.00000        0.95460          0.81758   \n",
       "writing score          0.80264        0.95460        1.00000          0.80264   \n",
       "norm_math score        1.00000        0.81758        0.80264          1.00000   \n",
       "norm_reading score     0.81758        1.00000        0.95460          0.81758   \n",
       "norm_writing score     0.80264        0.95460        1.00000          0.80264   \n",
       "final_score            0.91875        0.97033        0.96567          0.91875   \n",
       "norm_final_score       0.91875        0.97033        0.96567          0.91875   \n",
       "\n",
       "                    norm_reading score  norm_writing score  final_score  \\\n",
       "math score                     0.81758             0.80264      0.91875   \n",
       "reading score                  1.00000             0.95460      0.97033   \n",
       "writing score                  0.95460             1.00000      0.96567   \n",
       "norm_math score                0.81758             0.80264      0.91875   \n",
       "norm_reading score             1.00000             0.95460      0.97033   \n",
       "norm_writing score             0.95460             1.00000      0.96567   \n",
       "final_score                    0.97033             0.96567      1.00000   \n",
       "norm_final_score               0.97033             0.96567      1.00000   \n",
       "\n",
       "                    norm_final_score  \n",
       "math score                   0.91875  \n",
       "reading score                0.97033  \n",
       "writing score                0.96567  \n",
       "norm_math score              0.91875  \n",
       "norm_reading score           0.97033  \n",
       "norm_writing score           0.96567  \n",
       "final_score                  1.00000  \n",
       "norm_final_score             1.00000  "
      ]
     },
     "execution_count": 21,
     "metadata": {},
     "output_type": "execute_result"
    }
   ],
   "source": [
    "students.corr()"
   ]
  },
  {
   "cell_type": "code",
   "execution_count": 22,
   "id": "gothic-basin",
   "metadata": {},
   "outputs": [
    {
     "data": {
      "text/plain": [
       "<AxesSubplot:>"
      ]
     },
     "execution_count": 22,
     "metadata": {},
     "output_type": "execute_result"
    },
    {
     "data": {
      "image/png": "[encoded data removed]",
      "text/plain": [
       "<Figure size 432x288 with 2 Axes>"
      ]
     },
     "metadata": {},
     "output_type": "display_data"
    }
   ],
   "source": [
    "sns.heatmap(students.corr(),annot=True,linewidth=0.5)  # final_score degişkeni 0.97 ile en çok reading_score ve\n",
    "                                                       # writing score ile ilşkili görünüyor.Sonrasında 0.92 corr ile math score\n",
    "                                                       # ile ilişkili"
   ]
  },
  {
   "cell_type": "code",
   "execution_count": 23,
   "id": "utility-truth",
   "metadata": {},
   "outputs": [],
   "source": [
    "# istatiksel olarak aralarında anlamlı fark olup olmadığına bakarsak:\n",
    "# final_score ile writing score arasında anlamlı fark yoktur.(p_value > 0.05)\n",
    "# reading ve math skorları ile final_score arasında anlamlı fark vardır.(p_value < 0.05)"
   ]
  },
  {
   "cell_type": "code",
   "execution_count": 24,
   "id": "formal-boundary",
   "metadata": {},
   "outputs": [
    {
     "data": {
      "text/html": [
       "<div>\n",
       "<style scoped>\n",
       "    .dataframe tbody tr th:only-of-type {\n",
       "        vertical-align: middle;\n",
       "    }\n",
       "\n",
       "    .dataframe tbody tr th {\n",
       "        vertical-align: top;\n",
       "    }\n",
       "\n",
       "    .dataframe thead th {\n",
       "        text-align: right;\n",
       "    }\n",
       "</style>\n",
       "<table border=\"1\" class=\"dataframe\">\n",
       "  <thead>\n",
       "    <tr style=\"text-align: right;\">\n",
       "      <th></th>\n",
       "      <th>score</th>\n",
       "      <th>t_stats</th>\n",
       "      <th>p_value</th>\n",
       "    </tr>\n",
       "  </thead>\n",
       "  <tbody>\n",
       "    <tr>\n",
       "      <th>0</th>\n",
       "      <td>math score &amp; final_score</td>\n",
       "      <td>2.55506</td>\n",
       "      <td>0.01069</td>\n",
       "    </tr>\n",
       "    <tr>\n",
       "      <th>1</th>\n",
       "      <td>reading score &amp; final_score</td>\n",
       "      <td>-2.16689</td>\n",
       "      <td>0.03036</td>\n",
       "    </tr>\n",
       "    <tr>\n",
       "      <th>2</th>\n",
       "      <td>writing score &amp; final_score</td>\n",
       "      <td>-0.42999</td>\n",
       "      <td>0.66725</td>\n",
       "    </tr>\n",
       "  </tbody>\n",
       "</table>\n",
       "</div>"
      ],
      "text/plain": [
       "                         score  t_stats  p_value\n",
       "0     math score & final_score  2.55506  0.01069\n",
       "1  reading score & final_score -2.16689  0.03036\n",
       "2  writing score & final_score -0.42999  0.66725"
      ]
     },
     "execution_count": 24,
     "metadata": {},
     "output_type": "execute_result"
    }
   ],
   "source": [
    "scores = [\"math score\", \"reading score\", \"writing score\"]\n",
    "hipotez_testleri = pd.DataFrame(columns=[\"score\",\"t_stats\",\"p_value\"])\n",
    "for score in scores:\n",
    "    ttest = stats.ttest_ind(students[\"final_score\"],students[score])\n",
    "    hipotez_testleri = hipotez_testleri.append({\"score\": score + \" & final_score\",\n",
    "                                                \n",
    "                                                \"t_stats\": ttest[0] , \n",
    "                                                \"p_value\" : ttest[1]\n",
    "                                               }, ignore_index=True)\n",
    "hipotez_testleri"
   ]
  },
  {
   "cell_type": "code",
   "execution_count": 25,
   "id": "powered-brush",
   "metadata": {},
   "outputs": [
    {
     "data": {
      "image/png": "[encoded data removed]",
      "text/plain": [
       "<Figure size 1440x504 with 3 Axes>"
      ]
     },
     "metadata": {},
     "output_type": "display_data"
    }
   ],
   "source": [
    "## final_score için:\n",
    "\n",
    "plt.figure(figsize=(20,7))\n",
    "plt.subplot(1,3,1)\n",
    "sns.barplot(\"gender\",\"final_score\" , data=students)\n",
    "plt.title(\"gender & final_score\")\n",
    "\n",
    "plt.subplot(1,3,2)\n",
    "sns.barplot(\"race/ethnicity\" , \"final_score\", data=students)\n",
    "plt.title(\"race/ethnicity & final_score\")\n",
    "\n",
    "plt.subplot(1,3,3)\n",
    "sns.barplot(y=\"parental level of education\",x=\"final_score\", data=students)\n",
    "plt.title(\"parental level of education & final_score\")\n",
    "\n",
    "plt.tight_layout()\n",
    "\n",
    "plt.show()"
   ]
  },
  {
   "cell_type": "code",
   "execution_count": 49,
   "id": "swiss-chicken",
   "metadata": {},
   "outputs": [
    {
     "name": "stdout",
     "output_type": "stream",
     "text": [
      "score için karşılaştırma "
     ]
    },
    {
     "data": {
      "text/html": [
       "<div>\n",
       "<style scoped>\n",
       "    .dataframe tbody tr th:only-of-type {\n",
       "        vertical-align: middle;\n",
       "    }\n",
       "\n",
       "    .dataframe tbody tr th {\n",
       "        vertical-align: top;\n",
       "    }\n",
       "\n",
       "    .dataframe thead th {\n",
       "        text-align: right;\n",
       "    }\n",
       "</style>\n",
       "<table border=\"1\" class=\"dataframe\">\n",
       "  <thead>\n",
       "    <tr style=\"text-align: right;\">\n",
       "      <th></th>\n",
       "      <th>score</th>\n",
       "      <th>female</th>\n",
       "      <th>male</th>\n",
       "      <th>istatistik</th>\n",
       "      <th>p_degeri</th>\n",
       "    </tr>\n",
       "  </thead>\n",
       "  <tbody>\n",
       "    <tr>\n",
       "      <th>0</th>\n",
       "      <td>final_score</td>\n",
       "      <td>female</td>\n",
       "      <td>male</td>\n",
       "      <td>4.169913529142000</td>\n",
       "      <td>0.000033119736382</td>\n",
       "    </tr>\n",
       "  </tbody>\n",
       "</table>\n",
       "</div>"
      ],
      "text/plain": [
       "         score  female  male        istatistik          p_degeri\n",
       "0  final_score  female  male 4.169913529142000 0.000033119736382"
      ]
     },
     "metadata": {},
     "output_type": "display_data"
    }
   ],
   "source": [
    "# final_score için gender degiskeni değişkenini incelersek \n",
    "#grafikte kadınların daha basarılı oldugu görülüyor istatiksel olarak da degerlendirirelim,\n",
    "# female ve male arasında anlamlı bi fark yoktur diyemeyiz,aralarında fark var demek ki grafikteki ifade dogru\n",
    "# demek ki gender degiskeninin female ya da male olması final score degiskenini etkiler.\n",
    "\n",
    "for var in [\"score\"]:\n",
    "    karsilastirma = pd.DataFrame(columns=['score','female', 'male','istatistik', 'p_degeri'])\n",
    "    print(\"{} için karşılaştırma\".format(var),end=' ')\n",
    "    \n",
    "    ttest = stats.ttest_ind(students[students[\"gender\"]==\"female\"][\"final_score\"],\n",
    "                            students[students[\"gender\"]==\"male\"][\"final_score\"])\n",
    "    female = \"female\"\n",
    "    male = \"male\"\n",
    "    istatistik = ttest[0]               \n",
    "    p_degeri = ttest[1]\n",
    "            \n",
    "    karsilastirma = karsilastirma.append({\"score\":\"final_score\",\n",
    "                                                \"female\" : female,\n",
    "                                                  \"male\" : male ,\n",
    "                                                  \"istatistik\": istatistik , \n",
    "                                                  \"p_degeri\" : p_degeri}, ignore_index=True)\n",
    "    display(karsilastirma)"
   ]
  },
  {
   "cell_type": "code",
   "execution_count": 28,
   "id": "diverse-science",
   "metadata": {},
   "outputs": [
    {
     "name": "stdout",
     "output_type": "stream",
     "text": [
      "final_score için karşılaştırma"
     ]
    },
    {
     "data": {
      "text/html": [
       "<div>\n",
       "<style scoped>\n",
       "    .dataframe tbody tr th:only-of-type {\n",
       "        vertical-align: middle;\n",
       "    }\n",
       "\n",
       "    .dataframe tbody tr th {\n",
       "        vertical-align: top;\n",
       "    }\n",
       "\n",
       "    .dataframe thead th {\n",
       "        text-align: right;\n",
       "    }\n",
       "</style>\n",
       "<table border=\"1\" class=\"dataframe\">\n",
       "  <thead>\n",
       "    <tr style=\"text-align: right;\">\n",
       "      <th></th>\n",
       "      <th>grup_1</th>\n",
       "      <th>grup_2</th>\n",
       "      <th>istatistik</th>\n",
       "      <th>p_degeri</th>\n",
       "    </tr>\n",
       "  </thead>\n",
       "  <tbody>\n",
       "    <tr>\n",
       "      <th>0</th>\n",
       "      <td>group B</td>\n",
       "      <td>group C</td>\n",
       "      <td>-1.278246741583154</td>\n",
       "      <td>0.201747312277340</td>\n",
       "    </tr>\n",
       "    <tr>\n",
       "      <th>1</th>\n",
       "      <td>group B</td>\n",
       "      <td>group A</td>\n",
       "      <td>1.316504366963353</td>\n",
       "      <td>0.189093058950944</td>\n",
       "    </tr>\n",
       "    <tr>\n",
       "      <th>2</th>\n",
       "      <td>group B</td>\n",
       "      <td>group D</td>\n",
       "      <td>-2.803108399207725</td>\n",
       "      <td>0.005279949204375</td>\n",
       "    </tr>\n",
       "    <tr>\n",
       "      <th>3</th>\n",
       "      <td>group B</td>\n",
       "      <td>group E</td>\n",
       "      <td>-4.460378072613960</td>\n",
       "      <td>0.000011254806794</td>\n",
       "    </tr>\n",
       "    <tr>\n",
       "      <th>4</th>\n",
       "      <td>group C</td>\n",
       "      <td>group A</td>\n",
       "      <td>2.466593204095108</td>\n",
       "      <td>0.014052604831601</td>\n",
       "    </tr>\n",
       "    <tr>\n",
       "      <th>5</th>\n",
       "      <td>group C</td>\n",
       "      <td>group D</td>\n",
       "      <td>-1.806357695360095</td>\n",
       "      <td>0.071381586738136</td>\n",
       "    </tr>\n",
       "    <tr>\n",
       "      <th>6</th>\n",
       "      <td>group C</td>\n",
       "      <td>group E</td>\n",
       "      <td>-3.935868946604548</td>\n",
       "      <td>0.000095801993351</td>\n",
       "    </tr>\n",
       "    <tr>\n",
       "      <th>7</th>\n",
       "      <td>group A</td>\n",
       "      <td>group D</td>\n",
       "      <td>-3.717941592338664</td>\n",
       "      <td>0.000233904167488</td>\n",
       "    </tr>\n",
       "    <tr>\n",
       "      <th>8</th>\n",
       "      <td>group A</td>\n",
       "      <td>group E</td>\n",
       "      <td>-4.958668289961606</td>\n",
       "      <td>0.000001389791047</td>\n",
       "    </tr>\n",
       "    <tr>\n",
       "      <th>9</th>\n",
       "      <td>group D</td>\n",
       "      <td>group E</td>\n",
       "      <td>-2.487048058580620</td>\n",
       "      <td>0.013287580176112</td>\n",
       "    </tr>\n",
       "  </tbody>\n",
       "</table>\n",
       "</div>"
      ],
      "text/plain": [
       "    grup_1   grup_2         istatistik          p_degeri\n",
       "0  group B  group C -1.278246741583154 0.201747312277340\n",
       "1  group B  group A  1.316504366963353 0.189093058950944\n",
       "2  group B  group D -2.803108399207725 0.005279949204375\n",
       "3  group B  group E -4.460378072613960 0.000011254806794\n",
       "4  group C  group A  2.466593204095108 0.014052604831601\n",
       "5  group C  group D -1.806357695360095 0.071381586738136\n",
       "6  group C  group E -3.935868946604548 0.000095801993351\n",
       "7  group A  group D -3.717941592338664 0.000233904167488\n",
       "8  group A  group E -4.958668289961606 0.000001389791047\n",
       "9  group D  group E -2.487048058580620 0.013287580176112"
      ]
     },
     "metadata": {},
     "output_type": "display_data"
    }
   ],
   "source": [
    "# final_score için race/ethnicity degiskeninin t-ist ve pvalue degerlerini incelersek:\n",
    "# B,D,C grupları arasında anlamlı bi fark yoktur.A ve E tüm gruplardan anlamlı olarak farklıdır.\n",
    "# bu sebepten race/ethnicity degiskeni de final scoru etkiler.\n",
    "\n",
    "\n",
    "gruplar = students[\"race/ethnicity\"].unique()\n",
    "grup_students = students.groupby(\"race/ethnicity\")\n",
    " \n",
    "pd.options.display.float_format = '{:.15f}'.format\n",
    "\n",
    "for var in [\"final_score\"]:\n",
    "    karsilastirma = pd.DataFrame(columns=['grup_1', 'grup_2','istatistik', 'p_degeri'])\n",
    "    print(\"{} için karşılaştırma\".format(var),end='')\n",
    "    \n",
    "    for i in range(0, len(gruplar)):\n",
    "        for j in range(i+1, len(gruplar)):\n",
    "            ttest = stats.ttest_ind(students[students[\"race/ethnicity\"]==gruplar[i]][var], \n",
    "                                students[students[\"race/ethnicity\"]==gruplar[j]][var])\n",
    "            grup_1 = gruplar[i]\n",
    "            grup_2 = gruplar[j]\n",
    "            istatistik = ttest[0]\n",
    "            p_degeri = ttest[1]\n",
    "            \n",
    "            karsilastirma = karsilastirma.append({\"grup_1\" : grup_1 ,\n",
    "                                                  \"grup_2\" : grup_2 ,\n",
    "                                                  \"istatistik\": istatistik , \n",
    "                                                  \"p_degeri\" : p_degeri}, ignore_index=True)\n",
    "    display(karsilastirma)\n",
    "            \n",
    "      "
   ]
  },
  {
   "cell_type": "code",
   "execution_count": 29,
   "id": "prescription-engineering",
   "metadata": {},
   "outputs": [
    {
     "name": "stdout",
     "output_type": "stream",
     "text": [
      "final_score için karşılaştırma"
     ]
    },
    {
     "data": {
      "text/html": [
       "<div>\n",
       "<style scoped>\n",
       "    .dataframe tbody tr th:only-of-type {\n",
       "        vertical-align: middle;\n",
       "    }\n",
       "\n",
       "    .dataframe tbody tr th {\n",
       "        vertical-align: top;\n",
       "    }\n",
       "\n",
       "    .dataframe thead th {\n",
       "        text-align: right;\n",
       "    }\n",
       "</style>\n",
       "<table border=\"1\" class=\"dataframe\">\n",
       "  <thead>\n",
       "    <tr style=\"text-align: right;\">\n",
       "      <th></th>\n",
       "      <th>grup_1</th>\n",
       "      <th>grup_2</th>\n",
       "      <th>istatistik</th>\n",
       "      <th>p_degeri</th>\n",
       "    </tr>\n",
       "  </thead>\n",
       "  <tbody>\n",
       "    <tr>\n",
       "      <th>0</th>\n",
       "      <td>bachelor's degree</td>\n",
       "      <td>some college</td>\n",
       "      <td>2.200746866670862</td>\n",
       "      <td>0.028421853941795</td>\n",
       "    </tr>\n",
       "    <tr>\n",
       "      <th>1</th>\n",
       "      <td>bachelor's degree</td>\n",
       "      <td>master's degree</td>\n",
       "      <td>-0.759476950033905</td>\n",
       "      <td>0.448589132120201</td>\n",
       "    </tr>\n",
       "    <tr>\n",
       "      <th>2</th>\n",
       "      <td>bachelor's degree</td>\n",
       "      <td>associate's degree</td>\n",
       "      <td>1.501300964598319</td>\n",
       "      <td>0.134211315162234</td>\n",
       "    </tr>\n",
       "    <tr>\n",
       "      <th>3</th>\n",
       "      <td>bachelor's degree</td>\n",
       "      <td>high school</td>\n",
       "      <td>5.539323736236874</td>\n",
       "      <td>0.000000064577802</td>\n",
       "    </tr>\n",
       "    <tr>\n",
       "      <th>4</th>\n",
       "      <td>bachelor's degree</td>\n",
       "      <td>some high school</td>\n",
       "      <td>3.941854876966818</td>\n",
       "      <td>0.000101033359586</td>\n",
       "    </tr>\n",
       "    <tr>\n",
       "      <th>5</th>\n",
       "      <td>some college</td>\n",
       "      <td>master's degree</td>\n",
       "      <td>-2.559652069046644</td>\n",
       "      <td>0.010997532204149</td>\n",
       "    </tr>\n",
       "    <tr>\n",
       "      <th>6</th>\n",
       "      <td>some college</td>\n",
       "      <td>associate's degree</td>\n",
       "      <td>-0.844579084343610</td>\n",
       "      <td>0.398798698924585</td>\n",
       "    </tr>\n",
       "    <tr>\n",
       "      <th>7</th>\n",
       "      <td>some college</td>\n",
       "      <td>high school</td>\n",
       "      <td>4.047081496222537</td>\n",
       "      <td>0.000061740044264</td>\n",
       "    </tr>\n",
       "    <tr>\n",
       "      <th>8</th>\n",
       "      <td>some college</td>\n",
       "      <td>some high school</td>\n",
       "      <td>2.356277575721359</td>\n",
       "      <td>0.018937067340475</td>\n",
       "    </tr>\n",
       "    <tr>\n",
       "      <th>9</th>\n",
       "      <td>master's degree</td>\n",
       "      <td>associate's degree</td>\n",
       "      <td>2.014634576109426</td>\n",
       "      <td>0.044902247757125</td>\n",
       "    </tr>\n",
       "    <tr>\n",
       "      <th>10</th>\n",
       "      <td>master's degree</td>\n",
       "      <td>high school</td>\n",
       "      <td>5.226505457467739</td>\n",
       "      <td>0.000000361596860</td>\n",
       "    </tr>\n",
       "    <tr>\n",
       "      <th>11</th>\n",
       "      <td>master's degree</td>\n",
       "      <td>some high school</td>\n",
       "      <td>3.859155347095061</td>\n",
       "      <td>0.000146892562699</td>\n",
       "    </tr>\n",
       "    <tr>\n",
       "      <th>12</th>\n",
       "      <td>associate's degree</td>\n",
       "      <td>high school</td>\n",
       "      <td>4.856827218501055</td>\n",
       "      <td>0.000001691665176</td>\n",
       "    </tr>\n",
       "    <tr>\n",
       "      <th>13</th>\n",
       "      <td>associate's degree</td>\n",
       "      <td>some high school</td>\n",
       "      <td>3.111674522516239</td>\n",
       "      <td>0.001994114605903</td>\n",
       "    </tr>\n",
       "    <tr>\n",
       "      <th>14</th>\n",
       "      <td>high school</td>\n",
       "      <td>some high school</td>\n",
       "      <td>-1.366707743107010</td>\n",
       "      <td>0.172540140078275</td>\n",
       "    </tr>\n",
       "  </tbody>\n",
       "</table>\n",
       "</div>"
      ],
      "text/plain": [
       "                grup_1              grup_2         istatistik  \\\n",
       "0    bachelor's degree        some college  2.200746866670862   \n",
       "1    bachelor's degree     master's degree -0.759476950033905   \n",
       "2    bachelor's degree  associate's degree  1.501300964598319   \n",
       "3    bachelor's degree         high school  5.539323736236874   \n",
       "4    bachelor's degree    some high school  3.941854876966818   \n",
       "5         some college     master's degree -2.559652069046644   \n",
       "6         some college  associate's degree -0.844579084343610   \n",
       "7         some college         high school  4.047081496222537   \n",
       "8         some college    some high school  2.356277575721359   \n",
       "9      master's degree  associate's degree  2.014634576109426   \n",
       "10     master's degree         high school  5.226505457467739   \n",
       "11     master's degree    some high school  3.859155347095061   \n",
       "12  associate's degree         high school  4.856827218501055   \n",
       "13  associate's degree    some high school  3.111674522516239   \n",
       "14         high school    some high school -1.366707743107010   \n",
       "\n",
       "            p_degeri  \n",
       "0  0.028421853941795  \n",
       "1  0.448589132120201  \n",
       "2  0.134211315162234  \n",
       "3  0.000000064577802  \n",
       "4  0.000101033359586  \n",
       "5  0.010997532204149  \n",
       "6  0.398798698924585  \n",
       "7  0.000061740044264  \n",
       "8  0.018937067340475  \n",
       "9  0.044902247757125  \n",
       "10 0.000000361596860  \n",
       "11 0.000146892562699  \n",
       "12 0.000001691665176  \n",
       "13 0.001994114605903  \n",
       "14 0.172540140078275  "
      ]
     },
     "metadata": {},
     "output_type": "display_data"
    }
   ],
   "source": [
    "# final_score için parental level of education degiskeninin t-ist ve pvalue degerlerini incelersek:\n",
    "#  (master's degree-bachelor's degree),(associate's degree-some college),(high school-some high school) gruplarının kendi\n",
    "# arasında anlamlı bi fark yokken ikiserli gruplara ayırdığımız gruplar arasında anlamlı fark vardır.\n",
    "# bu sebepten parental level of education degiskeni de final scorunu etkiler.\n",
    "\n",
    "\n",
    "degrees = students[\"parental level of education\"].unique()\n",
    "parent_groups = students.groupby(\"parental level of education\")\n",
    "pd.options.display.float_format = '{:.15f}'.format\n",
    "\n",
    "for var in [\"final_score\"]:\n",
    "    \n",
    "    karsilastirma = pd.DataFrame(columns=['grup_1', 'grup_2','istatistik', 'p_degeri'])\n",
    "    print(\"{} için karşılaştırma\".format(var),end='')\n",
    "    for i in range(0, len(degrees)):\n",
    "        for j in range(i+1, len(degrees)):\n",
    "            ttest = stats.ttest_ind(students[students[\"parental level of education\"]==degrees[i]][var], \n",
    "                                students[students[\"parental level of education\"]==degrees[j]][var])\n",
    "            grup_1 = degrees[i]\n",
    "            grup_2 = degrees[j]\n",
    "            istatistik = ttest[0]\n",
    "            p_degeri = ttest[1]\n",
    "            \n",
    "            karsilastirma = karsilastirma.append({\"grup_1\" : grup_1 ,\n",
    "                                                  \"grup_2\" : grup_2 ,\n",
    "                                                  \"istatistik\": istatistik , \n",
    "                                                  \"p_degeri\" : p_degeri}, ignore_index=True)\n",
    "    display(karsilastirma)\n",
    "    "
   ]
  },
  {
   "cell_type": "code",
   "execution_count": 37,
   "id": "executive-borough",
   "metadata": {},
   "outputs": [
    {
     "data": {
      "image/png": "[encoded data removed]",
      "text/plain": [
       "<Figure size 576x360 with 1 Axes>"
      ]
     },
     "metadata": {},
     "output_type": "display_data"
    }
   ],
   "source": [
    "# lunch değişkeninin final_score değişkenini etkileyip etkilemedğine bakalım:\n",
    "\n",
    "plt.figure(figsize=(8,5))\n",
    "sns.barplot(\"lunch\",\"final_score\",data=students)\n",
    "plt.title(\"final_score & lunch\",fontdict=baslik_font)\n",
    "plt.show()"
   ]
  },
  {
   "cell_type": "code",
   "execution_count": 35,
   "id": "ideal-anime",
   "metadata": {},
   "outputs": [
    {
     "name": "stdout",
     "output_type": "stream",
     "text": [
      "final_score için: Ttest_indResult(statistic=9.575113051511476, pvalue=7.736791812495384e-21)\n"
     ]
    }
   ],
   "source": [
    "# final_scoru için öğle yemegi standard ve free/reduced olan öğrenciler arasında anlamlı bir fark yoktur diyemeyiz.\n",
    "# lunch = standard ve lunch = free/reduced olması final_score üzerinde etkilidir.\n",
    "\n",
    "\n",
    "fs = stats.ttest_ind(students[students[\"lunch\"]==\"standard\"][\"final_score\"],  \n",
    "                     students[students[\"lunch\"]==\"free/reduced\"][\"final_score\"])     \n",
    "print(\"final_score için: {}\".format(fs))"
   ]
  },
  {
   "cell_type": "code",
   "execution_count": 38,
   "id": "dominant-recruitment",
   "metadata": {},
   "outputs": [
    {
     "data": {
      "image/png": "[encoded data removed]",
      "text/plain": [
       "<Figure size 576x360 with 1 Axes>"
      ]
     },
     "metadata": {},
     "output_type": "display_data"
    }
   ],
   "source": [
    "# son olarak da \"test preparation course\" değişkeninin final_score değişkenini etkileyip etkilemedğine bakalım:\n",
    "\n",
    "plt.figure(figsize=(8,5))\n",
    "sns.barplot(\"test preparation course\",\"final_score\",data=students)\n",
    "plt.title(\"final_score & test prep.course\",fontdict=baslik_font)\n",
    "\n",
    "plt.tight_layout()\n",
    "plt.show()"
   ]
  },
  {
   "cell_type": "code",
   "execution_count": 39,
   "id": "technical-printer",
   "metadata": {},
   "outputs": [
    {
     "name": "stdout",
     "output_type": "stream",
     "text": [
      "final_score için: Ttest_indResult(statistic=-8.390944443482592, pvalue=1.633780203592351e-16)\n"
     ]
    }
   ],
   "source": [
    "# final_scoru için \"test preparation course\" değişkeninin none veya completed olması öğrenciler arasında \n",
    "# anlamlı bir fark olusturuyor.\n",
    "# test preparation course = none ve test preparation course = completed olması final_score üzerinde etkilidir.\n",
    "\n",
    "ts = stats.ttest_ind(students[students[\"test preparation course\"]==\"none\"][\"final_score\"],  \n",
    "                     students[students[\"test preparation course\"]==\"completed\"][\"final_score\"])     \n",
    "print(\"final_score için: {}\".format(ts))"
   ]
  },
  {
   "cell_type": "code",
   "execution_count": null,
   "id": "discrete-jacksonville",
   "metadata": {},
   "outputs": [],
   "source": [
    "# hem istatiksel olarak hem de grafiklerde görüldüğü gibi \"gender\",\"race/ethnicity\",\"parental level of education\",\n",
    "# \"lunch\",\"test preparation course\" değişkenleri final score değişkeni üzerinde etkilidir."
   ]
  }
 ],
 "metadata": {
  "kernelspec": {
   "display_name": "Python 3",
   "language": "python",
   "name": "python3"
  },
  "language_info": {
   "codemirror_mode": {
    "name": "ipython",
    "version": 3
   },
   "file_extension": ".py",
   "mimetype": "text/x-python",
   "name": "python",
   "nbconvert_exporter": "python",
   "pygments_lexer": "ipython3",
   "version": "3.8.8"
  }
 },
 "nbformat": 4,
 "nbformat_minor": 5
}
