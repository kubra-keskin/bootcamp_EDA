{
 "cells": [
  {
   "cell_type": "markdown",
   "metadata": {},
   "source": [
    "### 1.Rank değişkenini kategorik olarak değerlendirmenin avantaj ve dezavantajlarını göz önünde bulundurun. Argümanlarınızı mentorunuzla tartışın."
   ]
  },
  {
   "cell_type": "markdown",
   "metadata": {},
   "source": [
    "#### Rank değişkenini kategorik olarak değerlendirmenin avantajı veriyi anlamada ve yararlı hale getirmek kullanışlı olması.İlgili satırdaki veriye erişimin kolay olması.Ordinal kategorik değişken olarak en yüksek dereceye sahip olan kanaldan aza doğru sıralama yapmıştır.Bu bizim için değerlendirme acısından kolaylık sağlayabilir.Dezavantaj olarak sayı içerikli olmasından dolayı sürekli değişkenle karıştırılıp anlam karmasasna yol acabilir.\n"
   ]
  },
  {
   "cell_type": "code",
   "execution_count": null,
   "metadata": {},
   "outputs": [],
   "source": []
  },
  {
   "cell_type": "markdown",
   "metadata": {},
   "source": [
    "#### 2.Aşağıdaki değişkenlerin türlerini belirleyin:\n",
    "####    Yaş : oranlı sürekli değişken\n",
    "####    Maaş : sürekli değişken\n",
    "####    Gelir :sürekli değişken\n",
    "####    Müşteri türü : kategorik değişken(ordinal de nominal de olabilir)\n",
    "####    Hisse senedi fiyatı : sürekli değişken\n"
   ]
  },
  {
   "cell_type": "code",
   "execution_count": null,
   "metadata": {},
   "outputs": [],
   "source": []
  }
 ],
 "metadata": {
  "kernelspec": {
   "display_name": "Python 3",
   "language": "python",
   "name": "python3"
  },
  "language_info": {
   "codemirror_mode": {
    "name": "ipython",
    "version": 3
   },
   "file_extension": ".py",
   "mimetype": "text/x-python",
   "name": "python",
   "nbconvert_exporter": "python",
   "pygments_lexer": "ipython3",
   "version": "3.8.3"
  }
 },
 "nbformat": 4,
 "nbformat_minor": 4
}
