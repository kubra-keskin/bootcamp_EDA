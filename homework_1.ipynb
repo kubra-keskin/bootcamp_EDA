{
 "cells": [
  {
   "cell_type": "markdown",
   "metadata": {},
   "source": [
    "### 1.Keşifsel Veri Analizinin amacı nedir?"
   ]
  },
  {
   "cell_type": "markdown",
   "metadata": {},
   "source": [
    "### Keşifsel veri analizinin amacı öncelikle elimizdeki veriyi anlamaktır.Bunun için de atacağımız ilk adım veriyi hatalardan ayıklayarak temiz veri elde etmek sonra veri keşfi için değişkenleri anlamak ve değişkenler arasındaki ilişkileri belirleyerek faydalı özellikleri tespit etmektir."
   ]
  },
  {
   "cell_type": "markdown",
   "metadata": {},
   "source": [
    "### 2.Bir e-ticaret şirketinin ürünlerine ait müşteri yorumlarını içeren bir veri kümesi üzerinde çalıştığınızı farz edin. Şirketin web sitesi aracılığıyla toplanan müşteri yorumları içeriğinin olumlu ya da olumsuz olmasına göre 1 ila 5 arasında derecelendirilmiştir.\n",
    "\n",
    "### a. Bu ham veride ne tür problemlerle karşılaşmayı beklersiniz?\n",
    "\n",
    "### b. Göreviniz müşterilerin yorumlarının olumlu yada olumsuz olduğunu ortaya çıkaran özellikleri belirlemek olsaydı nasıl bir yaplaşımda bulunur ve bunun için hangi metodları kullanırdınız?\n",
    "\n",
    "### c. Ham veriden çıkarılabilecek yararlı özelliklerin neler olabilir? Bu verilere nasıl ulaşılabilirsiniz ve bunların faydalı olup olmayacağını nasıl anlayabilirsiniz?"
   ]
  },
  {
   "cell_type": "markdown",
   "metadata": {},
   "source": [
    "#### a.Değerlendirmeyi eksik veya yanlış yapan müşteri olabilir.Örneğin hepsini boş bırakmıştır ya da aynı yorum için iki şık işaretlemiş olabilir."
   ]
  },
  {
   "cell_type": "markdown",
   "metadata": {},
   "source": [
    "#### b.her yorum için 1den 5 e kadar yıldız puanlama sistemi koyulduğunu varsayalım.1 yıldız:çok kötü,5 yıldız :çok iyi gibi.\n",
    "#### Yorumları yıldız sayısına göre gruplayarak yeni bir degerlendirme sütunu ekleriz, sonra aynı yıldız sayısına sahip yorumların ortak veya yakın özellikleri var mı inceleyebiliriz.Bunları yaparken groupby ve görselleştirme için de matplotlib kullanılabilir.\n",
    "#### incelemeden sonra olumlu ve olumsuz yorumları sebeplerine göre kendi içinde kategorize edebiliriz."
   ]
  },
  {
   "cell_type": "markdown",
   "metadata": {},
   "source": [
    "#### c.ham veriden cıkarılabilecek yararlı özlellikler müşterilerin düşük ve yüksek yıldızları neye göre verdiklerini tespit etmek oalbilir. yorumlar arasında ilişki var mı incelenir eğer birbirleriyle ilişkili yorumlar varsa verilen dereceler de ilişkili olmalı.incelemeden sonra olumlu ve olumsuz yorumları sebeplerine göre kendi içinde kategorize edebiliriz.Bu kategoriler de ürün teslim süresi, müşteri hizmetleri, ürün kalitesi, paketleme ve kargo kalitesi gibi baslıklar olabilir.Herbir kategori gerçekten memnuniyet derecesini etkiliyor mu bunun tespiti yapılabilir."
   ]
  },
  {
   "cell_type": "code",
   "execution_count": null,
   "metadata": {},
   "outputs": [],
   "source": []
  }
 ],
 "metadata": {
  "kernelspec": {
   "display_name": "Python 3",
   "language": "python",
   "name": "python3"
  },
  "language_info": {
   "codemirror_mode": {
    "name": "ipython",
    "version": 3
   },
   "file_extension": ".py",
   "mimetype": "text/x-python",
   "name": "python",
   "nbconvert_exporter": "python",
   "pygments_lexer": "ipython3",
   "version": "3.8.3"
  }
 },
 "nbformat": 4,
 "nbformat_minor": 4
}
